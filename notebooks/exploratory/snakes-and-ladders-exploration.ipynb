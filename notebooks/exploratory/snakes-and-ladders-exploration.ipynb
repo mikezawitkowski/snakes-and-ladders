{
 "cells": [
  {
   "cell_type": "markdown",
   "metadata": {},
   "source": [
    "# Snakes and Ladders Exploration"
   ]
  },
  {
   "cell_type": "code",
   "execution_count": 40,
   "metadata": {
    "collapsed": true
   },
   "outputs": [],
   "source": [
    "from random import randint\n",
    "from scipy import stats\n",
    "import numpy as np"
   ]
  },
  {
   "cell_type": "code",
   "execution_count": 47,
   "metadata": {
    "collapsed": true
   },
   "outputs": [],
   "source": [
    "def roll():\n",
    "    return randint(1,6)"
   ]
  },
  {
   "cell_type": "code",
   "execution_count": 133,
   "metadata": {
    "collapsed": false
   },
   "outputs": [],
   "source": [
    "def play_a_game():\n",
    "    positions = {'player1': 1,\n",
    "                 'player2': 1}\n",
    "    turns = {'player1': 1,\n",
    "                'player2': 1}\n",
    "    ladders = { \n",
    "        3: 16, \n",
    "        5: 7,\n",
    "        15: 25, \n",
    "        18: 20, \n",
    "        21: 32\n",
    "               }\n",
    "    snakes = {\n",
    "        12: 2, \n",
    "        14: 11, \n",
    "        17: 4, \n",
    "        31: 19, \n",
    "        35: 22\n",
    "    }    \n",
    "    last_square = 36\n",
    "    while max(positions.values()) < last_square:\n",
    "        for player in sorted(positions.keys()):\n",
    "            new_position = positions[player] + roll()            \n",
    "            if new_position in ladders.keys():\n",
    "                new_position = ladders[new_position]\n",
    "            if new_position in snakes.keys():\n",
    "                new_position = snakes[new_position]\n",
    "            positions[player] = new_position\n",
    "            if new_position >= last_square:\n",
    "                positions[player] = new_position\n",
    "                break\n",
    "            turns[player] += 1\n",
    "    return positions, turns"
   ]
  },
  {
   "cell_type": "code",
   "execution_count": 134,
   "metadata": {
    "collapsed": false
   },
   "outputs": [],
   "source": [
    "positions, turns = play_a_game()"
   ]
  },
  {
   "cell_type": "code",
   "execution_count": 135,
   "metadata": {
    "collapsed": false
   },
   "outputs": [
    {
     "data": {
      "text/plain": [
       "{'player1': 7, 'player2': 6}"
      ]
     },
     "execution_count": 135,
     "metadata": {},
     "output_type": "execute_result"
    }
   ],
   "source": [
    "turns"
   ]
  },
  {
   "cell_type": "code",
   "execution_count": 136,
   "metadata": {
    "collapsed": false
   },
   "outputs": [
    {
     "data": {
      "text/plain": [
       "{'player1': 24, 'player2': 37}"
      ]
     },
     "execution_count": 136,
     "metadata": {},
     "output_type": "execute_result"
    }
   ],
   "source": [
    "positions"
   ]
  },
  {
   "cell_type": "markdown",
   "metadata": {},
   "source": [
    "n = 10000 # 10,000 rounds of the game\n",
    "games = []\n",
    "winner = []\n",
    "for i in range(n):\n",
    "    positions, turns = play_a_game()\n",
    "    "
   ]
  },
  {
   "cell_type": "markdown",
   "metadata": {},
   "source": [
    "## Question 1\n",
    "\n",
    "In a two person game, what is the probability that the player who starts the game wins?"
   ]
  },
  {
   "cell_type": "code",
   "execution_count": 51,
   "metadata": {
    "collapsed": false
   },
   "outputs": [
    {
     "data": {
      "text/plain": [
       "2.9195537599999999"
      ]
     },
     "execution_count": 51,
     "metadata": {},
     "output_type": "execute_result"
    }
   ],
   "source": [
    "np.var(rolls)"
   ]
  },
  {
   "cell_type": "code",
   "execution_count": 52,
   "metadata": {
    "collapsed": false
   },
   "outputs": [
    {
     "data": {
      "text/plain": [
       "3.4931999999999999"
      ]
     },
     "execution_count": 52,
     "metadata": {},
     "output_type": "execute_result"
    }
   ],
   "source": [
    "np.mean(rolls)"
   ]
  },
  {
   "cell_type": "code",
   "execution_count": null,
   "metadata": {
    "collapsed": true
   },
   "outputs": [],
   "source": []
  }
 ],
 "metadata": {
  "kernelspec": {
   "display_name": "Python 2",
   "language": "python",
   "name": "python2"
  },
  "language_info": {
   "codemirror_mode": {
    "name": "ipython",
    "version": 2
   },
   "file_extension": ".py",
   "mimetype": "text/x-python",
   "name": "python",
   "nbconvert_exporter": "python",
   "pygments_lexer": "ipython2",
   "version": "2.7.10"
  }
 },
 "nbformat": 4,
 "nbformat_minor": 0
}
